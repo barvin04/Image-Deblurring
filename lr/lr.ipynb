{
 "cells": [
  {
   "cell_type": "code",
   "execution_count": null,
   "metadata": {},
   "outputs": [],
   "source": [
    "import numpy as np\n",
    "import scipy\n",
    "from scipy import stats\n",
    "from scipy.ndimage.filters import convolve\n",
    "try:\n",
    "    from astropy.io import fits\n",
    "except ImportError:\n",
    "    import pyfits as fits\n",
    "import matplotlib.pyplot as plt\n",
    "import pdb\n",
    "\n",
    "def pad_psf(psf, spectrum):\n",
    "    out_psf = np.zeros( spectrum.shape )\n",
    "    start = len(spectrum)/2 - len(psf)/2\n",
    "    end = start + len(psf)\n",
    "    out_psf[start:end] = psf\n",
    "\n",
    "    return out_psf\n",
    "\n",
    "def rl_fft(raw_image, psf, niter, k=1, con_var=None):\n",
    "    calc_chisq = lambda a, b, c, d: np.sum((a - b)**2 / (a + c)**2 / (d-1))\n",
    "    \n",
    "    conversion =  raw_image.mean() / 10\n",
    "    raw_image /= conversion\n",
    "    \n",
    "    lucy = np.ones(raw_image.shape)\n",
    "    ratio = k * np.ones(raw_image.shape)\n",
    "    fft_psf = np.fft.fft(psf)\n",
    "    \n",
    "    con_var = sample_noise(raw_image)\n",
    "    print (\"using: \", con_var)\n",
    "\n",
    "    norm = np.fft.ifft(np.fft.fft(ratio) * np.conj(fft_psf))\n",
    "    fft_conv = fft_psf * np.fft.fft(lucy)\n",
    "    lucy_conv = np.fft.ifft(fft_conv)\n",
    "\n",
    "    chisq = calc_chisq(lucy_conv, raw_image, con_var, raw_image.size)\n",
    "    print (\"initial Chisq: {}\".format(chisq))\n",
    "\n",
    "    for iteration in range(niter):\n",
    "        ratio = k * (raw_image + con_var) / (lucy_conv + con_var)\n",
    "        fft_srat = np.fft.fft(ratio) * np.conj(fft_psf)\n",
    "\n",
    "        lucy *= np.fft.ifft(fft_srat) / norm\n",
    "        print (lucy.max(), lucy.mean(), lucy.min())\n",
    "        fft_conv = fft_psf * np.fft.fft(lucy)\n",
    "        lucy_conv = np.fft.ifft(fft_conv)\n",
    "        size = lucy.size\n",
    "        chisq = calc_chisq(lucy_conv, raw_image, con_var, raw_image.size)\n",
    "        print (\"Iteration {} Chisq: {}\".format(iteration, chisq))\n",
    "    lucy = lucy[range(size/2,size)+range(0,size/2)]\n",
    "    return lucy * conversion"
   ]
  }
 ],
 "metadata": {
  "kernelspec": {
   "display_name": "Python 3",
   "language": "python",
   "name": "python3"
  },
  "language_info": {
   "codemirror_mode": {
    "name": "ipython",
    "version": 3
   },
   "file_extension": ".py",
   "mimetype": "text/x-python",
   "name": "python",
   "nbconvert_exporter": "python",
   "pygments_lexer": "ipython3",
   "version": "3.8.3"
  }
 },
 "nbformat": 4,
 "nbformat_minor": 4
}
